{
 "cells": [
  {
   "cell_type": "code",
   "execution_count": 4,
   "id": "42f8910d",
   "metadata": {
    "scrolled": true
   },
   "outputs": [
    {
     "name": "stderr",
     "output_type": "stream",
     "text": [
      "The chromedriver version (122.0.6261.57) detected in PATH at c:\\Users\\Admin\\Downloads\\horseProfiles\\chromedriver.exe might not be compatible with the detected chrome version (123.0.6312.106); currently, chromedriver 123.0.6312.105 is recommended for chrome 123.*, so it is advised to delete the driver in PATH and retry\n"
     ]
    },
    {
     "ename": "NoSuchWindowException",
     "evalue": "Message: no such window: target window already closed\nfrom unknown error: web view not found\n  (Session info: chrome=123.0.6312.106)\nStacktrace:\n\tGetHandleVerifier [0x00007FF7CAB74C52+3505186]\n\t(No symbol) [0x00007FF7CA7A0812]\n\t(No symbol) [0x00007FF7CA654145]\n\t(No symbol) [0x00007FF7CA631D4C]\n\t(No symbol) [0x00007FF7CA6C25F7]\n\t(No symbol) [0x00007FF7CA6D7A61]\n\t(No symbol) [0x00007FF7CA6BBC33]\n\t(No symbol) [0x00007FF7CA68D618]\n\t(No symbol) [0x00007FF7CA68E6B1]\n\tGetHandleVerifier [0x00007FF7CABA67AD+3708797]\n\tGetHandleVerifier [0x00007FF7CABFFC2D+4074493]\n\tGetHandleVerifier [0x00007FF7CABF7DAF+4042111]\n\tGetHandleVerifier [0x00007FF7CA8CA0F6+708806]\n\t(No symbol) [0x00007FF7CA7ACACF]\n\t(No symbol) [0x00007FF7CA7A7CD4]\n\t(No symbol) [0x00007FF7CA7A7E2C]\n\t(No symbol) [0x00007FF7CA797964]\n\tBaseThreadInitThunk [0x00007FFAD68B7344+20]\n\tRtlUserThreadStart [0x00007FFAD79A26B1+33]\n",
     "output_type": "error",
     "traceback": [
      "\u001b[1;31m---------------------------------------------------------------------------\u001b[0m",
      "\u001b[1;31mNoSuchWindowException\u001b[0m                     Traceback (most recent call last)",
      "Cell \u001b[1;32mIn[4], line 59\u001b[0m\n\u001b[0;32m     56\u001b[0m     \u001b[38;5;28;01mreturn\u001b[39;00m horses_df\n\u001b[0;32m     58\u001b[0m \u001b[38;5;28;01mif\u001b[39;00m \u001b[38;5;18m__name__\u001b[39m \u001b[38;5;241m==\u001b[39m \u001b[38;5;124m'\u001b[39m\u001b[38;5;124m__main__\u001b[39m\u001b[38;5;124m'\u001b[39m:\n\u001b[1;32m---> 59\u001b[0m     horses_df \u001b[38;5;241m=\u001b[39m \u001b[43mget_links\u001b[49m\u001b[43m(\u001b[49m\u001b[43msave_df\u001b[49m\u001b[38;5;241;43m=\u001b[39;49m\u001b[38;5;28;43;01mTrue\u001b[39;49;00m\u001b[43m,\u001b[49m\u001b[43m \u001b[49m\u001b[43mjson_file\u001b[49m\u001b[38;5;241;43m=\u001b[39;49m\u001b[38;5;28;43;01mTrue\u001b[39;49;00m\u001b[43m,\u001b[49m\u001b[43m \u001b[49m\u001b[43mverbose\u001b[49m\u001b[38;5;241;43m=\u001b[39;49m\u001b[38;5;28;43;01mTrue\u001b[39;49;00m\u001b[43m)\u001b[49m\n",
      "Cell \u001b[1;32mIn[4], line 27\u001b[0m, in \u001b[0;36mget_links\u001b[1;34m(driver, wait, json_file, save_df, verbose)\u001b[0m\n\u001b[0;32m     25\u001b[0m \u001b[38;5;28;01mwhile\u001b[39;00m \u001b[38;5;28;01mTrue\u001b[39;00m:\n\u001b[0;32m     26\u001b[0m     time\u001b[38;5;241m.\u001b[39msleep(\u001b[38;5;241m3\u001b[39m) \u001b[38;5;66;03m#literally wait for the browser to load\u001b[39;00m\n\u001b[1;32m---> 27\u001b[0m     all_links \u001b[38;5;241m=\u001b[39m \u001b[43mwait\u001b[49m\u001b[38;5;241;43m.\u001b[39;49m\u001b[43muntil\u001b[49m\u001b[43m(\u001b[49m\u001b[43mEC\u001b[49m\u001b[38;5;241;43m.\u001b[39;49m\u001b[43mpresence_of_all_elements_located\u001b[49m\u001b[43m(\u001b[49m\u001b[43m(\u001b[49m\u001b[43mBy\u001b[49m\u001b[38;5;241;43m.\u001b[39;49m\u001b[43mCSS_SELECTOR\u001b[49m\u001b[43m,\u001b[49m\u001b[43m \u001b[49m\u001b[38;5;124;43m'\u001b[39;49m\u001b[38;5;124;43m.odd td.sorting_1 a, .even td.sorting_1 a\u001b[39;49m\u001b[38;5;124;43m'\u001b[39;49m\u001b[43m)\u001b[49m\u001b[43m)\u001b[49m\u001b[43m \u001b[49m\u001b[43m)\u001b[49m\u001b[38;5;66;03m#selenium gets confused when elements are finished loading due to the way singapore turf loads their content\u001b[39;00m\n\u001b[0;32m     28\u001b[0m     \u001b[38;5;28;01mfor\u001b[39;00m link \u001b[38;5;129;01min\u001b[39;00m all_links:\n\u001b[0;32m     29\u001b[0m         \u001b[38;5;28;01mtry\u001b[39;00m:\n",
      "File \u001b[1;32md:\\Python\\Python38\\lib\\site-packages\\selenium\\webdriver\\support\\wait.py:96\u001b[0m, in \u001b[0;36mWebDriverWait.until\u001b[1;34m(self, method, message)\u001b[0m\n\u001b[0;32m     94\u001b[0m \u001b[38;5;28;01mwhile\u001b[39;00m \u001b[38;5;28;01mTrue\u001b[39;00m:\n\u001b[0;32m     95\u001b[0m     \u001b[38;5;28;01mtry\u001b[39;00m:\n\u001b[1;32m---> 96\u001b[0m         value \u001b[38;5;241m=\u001b[39m \u001b[43mmethod\u001b[49m\u001b[43m(\u001b[49m\u001b[38;5;28;43mself\u001b[39;49m\u001b[38;5;241;43m.\u001b[39;49m\u001b[43m_driver\u001b[49m\u001b[43m)\u001b[49m\n\u001b[0;32m     97\u001b[0m         \u001b[38;5;28;01mif\u001b[39;00m value:\n\u001b[0;32m     98\u001b[0m             \u001b[38;5;28;01mreturn\u001b[39;00m value\n",
      "File \u001b[1;32md:\\Python\\Python38\\lib\\site-packages\\selenium\\webdriver\\support\\expected_conditions.py:191\u001b[0m, in \u001b[0;36mpresence_of_all_elements_located.<locals>._predicate\u001b[1;34m(driver)\u001b[0m\n\u001b[0;32m    190\u001b[0m \u001b[38;5;28;01mdef\u001b[39;00m \u001b[38;5;21m_predicate\u001b[39m(driver: WebDriverOrWebElement):\n\u001b[1;32m--> 191\u001b[0m     \u001b[38;5;28;01mreturn\u001b[39;00m \u001b[43mdriver\u001b[49m\u001b[38;5;241;43m.\u001b[39;49m\u001b[43mfind_elements\u001b[49m\u001b[43m(\u001b[49m\u001b[38;5;241;43m*\u001b[39;49m\u001b[43mlocator\u001b[49m\u001b[43m)\u001b[49m\n",
      "File \u001b[1;32md:\\Python\\Python38\\lib\\site-packages\\selenium\\webdriver\\remote\\webdriver.py:771\u001b[0m, in \u001b[0;36mWebDriver.find_elements\u001b[1;34m(self, by, value)\u001b[0m\n\u001b[0;32m    767\u001b[0m     value \u001b[38;5;241m=\u001b[39m \u001b[38;5;124mf\u001b[39m\u001b[38;5;124m'\u001b[39m\u001b[38;5;124m[name=\u001b[39m\u001b[38;5;124m\"\u001b[39m\u001b[38;5;132;01m{\u001b[39;00mvalue\u001b[38;5;132;01m}\u001b[39;00m\u001b[38;5;124m\"\u001b[39m\u001b[38;5;124m]\u001b[39m\u001b[38;5;124m'\u001b[39m\n\u001b[0;32m    769\u001b[0m \u001b[38;5;66;03m# Return empty list if driver returns null\u001b[39;00m\n\u001b[0;32m    770\u001b[0m \u001b[38;5;66;03m# See https://github.com/SeleniumHQ/selenium/issues/4555\u001b[39;00m\n\u001b[1;32m--> 771\u001b[0m \u001b[38;5;28;01mreturn\u001b[39;00m \u001b[38;5;28;43mself\u001b[39;49m\u001b[38;5;241;43m.\u001b[39;49m\u001b[43mexecute\u001b[49m\u001b[43m(\u001b[49m\u001b[43mCommand\u001b[49m\u001b[38;5;241;43m.\u001b[39;49m\u001b[43mFIND_ELEMENTS\u001b[49m\u001b[43m,\u001b[49m\u001b[43m \u001b[49m\u001b[43m{\u001b[49m\u001b[38;5;124;43m\"\u001b[39;49m\u001b[38;5;124;43musing\u001b[39;49m\u001b[38;5;124;43m\"\u001b[39;49m\u001b[43m:\u001b[49m\u001b[43m \u001b[49m\u001b[43mby\u001b[49m\u001b[43m,\u001b[49m\u001b[43m \u001b[49m\u001b[38;5;124;43m\"\u001b[39;49m\u001b[38;5;124;43mvalue\u001b[39;49m\u001b[38;5;124;43m\"\u001b[39;49m\u001b[43m:\u001b[49m\u001b[43m \u001b[49m\u001b[43mvalue\u001b[49m\u001b[43m}\u001b[49m\u001b[43m)\u001b[49m[\u001b[38;5;124m\"\u001b[39m\u001b[38;5;124mvalue\u001b[39m\u001b[38;5;124m\"\u001b[39m] \u001b[38;5;129;01mor\u001b[39;00m []\n",
      "File \u001b[1;32md:\\Python\\Python38\\lib\\site-packages\\selenium\\webdriver\\remote\\webdriver.py:347\u001b[0m, in \u001b[0;36mWebDriver.execute\u001b[1;34m(self, driver_command, params)\u001b[0m\n\u001b[0;32m    345\u001b[0m response \u001b[38;5;241m=\u001b[39m \u001b[38;5;28mself\u001b[39m\u001b[38;5;241m.\u001b[39mcommand_executor\u001b[38;5;241m.\u001b[39mexecute(driver_command, params)\n\u001b[0;32m    346\u001b[0m \u001b[38;5;28;01mif\u001b[39;00m response:\n\u001b[1;32m--> 347\u001b[0m     \u001b[38;5;28;43mself\u001b[39;49m\u001b[38;5;241;43m.\u001b[39;49m\u001b[43merror_handler\u001b[49m\u001b[38;5;241;43m.\u001b[39;49m\u001b[43mcheck_response\u001b[49m\u001b[43m(\u001b[49m\u001b[43mresponse\u001b[49m\u001b[43m)\u001b[49m\n\u001b[0;32m    348\u001b[0m     response[\u001b[38;5;124m\"\u001b[39m\u001b[38;5;124mvalue\u001b[39m\u001b[38;5;124m\"\u001b[39m] \u001b[38;5;241m=\u001b[39m \u001b[38;5;28mself\u001b[39m\u001b[38;5;241m.\u001b[39m_unwrap_value(response\u001b[38;5;241m.\u001b[39mget(\u001b[38;5;124m\"\u001b[39m\u001b[38;5;124mvalue\u001b[39m\u001b[38;5;124m\"\u001b[39m, \u001b[38;5;28;01mNone\u001b[39;00m))\n\u001b[0;32m    349\u001b[0m     \u001b[38;5;28;01mreturn\u001b[39;00m response\n",
      "File \u001b[1;32md:\\Python\\Python38\\lib\\site-packages\\selenium\\webdriver\\remote\\errorhandler.py:229\u001b[0m, in \u001b[0;36mErrorHandler.check_response\u001b[1;34m(self, response)\u001b[0m\n\u001b[0;32m    227\u001b[0m         alert_text \u001b[38;5;241m=\u001b[39m value[\u001b[38;5;124m\"\u001b[39m\u001b[38;5;124malert\u001b[39m\u001b[38;5;124m\"\u001b[39m]\u001b[38;5;241m.\u001b[39mget(\u001b[38;5;124m\"\u001b[39m\u001b[38;5;124mtext\u001b[39m\u001b[38;5;124m\"\u001b[39m)\n\u001b[0;32m    228\u001b[0m     \u001b[38;5;28;01mraise\u001b[39;00m exception_class(message, screen, stacktrace, alert_text)  \u001b[38;5;66;03m# type: ignore[call-arg]  # mypy is not smart enough here\u001b[39;00m\n\u001b[1;32m--> 229\u001b[0m \u001b[38;5;28;01mraise\u001b[39;00m exception_class(message, screen, stacktrace)\n",
      "\u001b[1;31mNoSuchWindowException\u001b[0m: Message: no such window: target window already closed\nfrom unknown error: web view not found\n  (Session info: chrome=123.0.6312.106)\nStacktrace:\n\tGetHandleVerifier [0x00007FF7CAB74C52+3505186]\n\t(No symbol) [0x00007FF7CA7A0812]\n\t(No symbol) [0x00007FF7CA654145]\n\t(No symbol) [0x00007FF7CA631D4C]\n\t(No symbol) [0x00007FF7CA6C25F7]\n\t(No symbol) [0x00007FF7CA6D7A61]\n\t(No symbol) [0x00007FF7CA6BBC33]\n\t(No symbol) [0x00007FF7CA68D618]\n\t(No symbol) [0x00007FF7CA68E6B1]\n\tGetHandleVerifier [0x00007FF7CABA67AD+3708797]\n\tGetHandleVerifier [0x00007FF7CABFFC2D+4074493]\n\tGetHandleVerifier [0x00007FF7CABF7DAF+4042111]\n\tGetHandleVerifier [0x00007FF7CA8CA0F6+708806]\n\t(No symbol) [0x00007FF7CA7ACACF]\n\t(No symbol) [0x00007FF7CA7A7CD4]\n\t(No symbol) [0x00007FF7CA7A7E2C]\n\t(No symbol) [0x00007FF7CA797964]\n\tBaseThreadInitThunk [0x00007FFAD68B7344+20]\n\tRtlUserThreadStart [0x00007FFAD79A26B1+33]\n"
     ]
    }
   ],
   "source": [
    "\"\"\"\n",
    "Pick the version of chrome that is supported\n",
    "for 123-125:\n",
    "https://googlechromelabs.github.io/chrome-for-testing/\n",
    "for 122:\n",
    "https://storage.googleapis.com/chrome-for-testing-public/122.0.6261.57/win64/chromedriver-win64.zip\n",
    "\"\"\"\n",
    "\n",
    "from selenium import webdriver\n",
    "from selenium.webdriver.common.by import By\n",
    "from selenium.webdriver.support.ui import WebDriverWait\n",
    "from selenium.webdriver.support import expected_conditions as EC\n",
    "from selenium.common.exceptions import StaleElementReferenceException\n",
    "from selenium.webdriver.chromium.webdriver import ChromiumDriver\n",
    "import pandas as pd\n",
    "import json, time, pickle\n",
    "\n",
    "URL = 'https://racing.turfclub.com.sg/en/horse-performance/'\n",
    "driver = webdriver.Chrome() #choose chrome (you can choose anything)\n",
    "wait = WebDriverWait(driver, 10)  # Using explicit wait with a timeout of 10 seconds\n",
    "def get_links(driver:ChromiumDriver = driver, wait:WebDriverWait=wait, *, json_file:bool = False, save_df:bool = False, verbose:bool=False) -> pd.DataFrame:\n",
    "    driver.get(URL)\n",
    "    horses = {}\n",
    "    while True: #page traversal\n",
    "        time.sleep(3) #literally wait for the browser to load\n",
    "        all_links = wait.until(EC.presence_of_all_elements_located((By.CSS_SELECTOR, '.odd td.sorting_1 a, .even td.sorting_1 a')) )#selenium gets confused when elements are finished loading due to the way singapore turf loads their content\n",
    "        for link in all_links:\n",
    "            try:\n",
    "                horse_name = link.text.strip()\n",
    "                horse_link = link.get_attribute('href')\n",
    "                if horse_name:\n",
    "                    horses[horse_name] = horse_link\n",
    "            except StaleElementReferenceException as e:\n",
    "                continue\n",
    "        all_links.clear()\n",
    "        if len(driver.find_elements(By.CLASS_NAME, 'paginate_button.next.disabled')) > 0: break #check if last page\n",
    "        wait.until(EC.element_to_be_clickable((By.CSS_SELECTOR, '#DataTables_Table_0_next'))).click()\n",
    "    driver.delete_all_cookies()\n",
    "    driver.quit() #close the driver gracefully\n",
    "\n",
    "    if verbose:\n",
    "        for horse_name, horse_links in horses.items():\n",
    "            print(horse_name, horse_links)\n",
    "\n",
    "    # Write data to JSON file\n",
    "    if json_file:\n",
    "        with open('horse_data.json', 'w') as json_f:\n",
    "            json.dump(horses, json_f, indent=4)\n",
    "\n",
    "    #create dataframe and save the object with pickle\n",
    "    horses_df = pd.DataFrame({'Horse Name': list(horses.keys()), 'Horse Links': horses.values()})\n",
    "    if save_df:\n",
    "        with open('horse_data.pickle', 'wb') as f:\n",
    "            pickle.dump(horses_df, f) #store the pickle file for future use\n",
    "\n",
    "    return horses_df\n",
    "\n",
    "if __name__ == '__main__':\n",
    "    horses_df = get_links(save_df=True, json_file=True, verbose=True)"
   ]
  },
  {
   "cell_type": "code",
   "execution_count": 10,
   "id": "22361315",
   "metadata": {},
   "outputs": [],
   "source": [
    "# Read the JSON file\n",
    "with open('horse_data.json', 'r') as file:\n",
    "    horse_data:dict = json.load(file)\n"
   ]
  },
  {
   "cell_type": "code",
   "execution_count": 31,
   "id": "c88ce2af",
   "metadata": {},
   "outputs": [
    {
     "ename": "IndexError",
     "evalue": "list index out of range",
     "output_type": "error",
     "traceback": [
      "\u001b[1;31m---------------------------------------------------------------------------\u001b[0m",
      "\u001b[1;31mIndexError\u001b[0m                                Traceback (most recent call last)",
      "Cell \u001b[1;32mIn[31], line 73\u001b[0m\n\u001b[0;32m     71\u001b[0m threads \u001b[38;5;241m=\u001b[39m []\n\u001b[0;32m     72\u001b[0m lock \u001b[38;5;241m=\u001b[39m threading\u001b[38;5;241m.\u001b[39mLock()\n\u001b[1;32m---> 73\u001b[0m proxy_list \u001b[38;5;241m=\u001b[39m \u001b[43mget_proxy_list\u001b[49m\u001b[43m(\u001b[49m\u001b[43m)\u001b[49m  \u001b[38;5;66;03m# Retrieve a list of proxy servers\u001b[39;00m\n\u001b[0;32m     74\u001b[0m \u001b[38;5;28;01mfor\u001b[39;00m chunk \u001b[38;5;129;01min\u001b[39;00m chunks:\n\u001b[0;32m     75\u001b[0m     proxy \u001b[38;5;241m=\u001b[39m random\u001b[38;5;241m.\u001b[39mchoice(proxy_list)  \u001b[38;5;66;03m# Get a random proxy\u001b[39;00m\n",
      "Cell \u001b[1;32mIn[30], line 18\u001b[0m, in \u001b[0;36mget_proxy_list\u001b[1;34m()\u001b[0m\n\u001b[0;32m     16\u001b[0m cols \u001b[38;5;241m=\u001b[39m row\u001b[38;5;241m.\u001b[39msplit(\u001b[38;5;124m\"\u001b[39m\u001b[38;5;124m</td>\u001b[39m\u001b[38;5;124m\"\u001b[39m)  \u001b[38;5;66;03m# Split row by table data\u001b[39;00m\n\u001b[0;32m     17\u001b[0m \u001b[38;5;28;01mif\u001b[39;00m \u001b[38;5;28mlen\u001b[39m(cols) \u001b[38;5;241m>\u001b[39m\u001b[38;5;241m=\u001b[39m \u001b[38;5;241m8\u001b[39m:\n\u001b[1;32m---> 18\u001b[0m     ip \u001b[38;5;241m=\u001b[39m \u001b[43mcols\u001b[49m\u001b[43m[\u001b[49m\u001b[38;5;241;43m0\u001b[39;49m\u001b[43m]\u001b[49m\u001b[38;5;241;43m.\u001b[39;49m\u001b[43msplit\u001b[49m\u001b[43m(\u001b[49m\u001b[38;5;124;43m\"\u001b[39;49m\u001b[38;5;124;43m<td>\u001b[39;49m\u001b[38;5;124;43m\"\u001b[39;49m\u001b[43m)\u001b[49m\u001b[43m[\u001b[49m\u001b[38;5;241;43m1\u001b[39;49m\u001b[43m]\u001b[49m\n\u001b[0;32m     19\u001b[0m     port \u001b[38;5;241m=\u001b[39m cols[\u001b[38;5;241m1\u001b[39m]\n\u001b[0;32m     20\u001b[0m     proxies\u001b[38;5;241m.\u001b[39mappend(\u001b[38;5;124mf\u001b[39m\u001b[38;5;124m\"\u001b[39m\u001b[38;5;132;01m{\u001b[39;00mip\u001b[38;5;132;01m}\u001b[39;00m\u001b[38;5;124m:\u001b[39m\u001b[38;5;132;01m{\u001b[39;00mport\u001b[38;5;132;01m}\u001b[39;00m\u001b[38;5;124m\"\u001b[39m)\n",
      "\u001b[1;31mIndexError\u001b[0m: list index out of range"
     ]
    }
   ],
   "source": [
    "\"\"\"\n",
    "\n",
    "Predictors:\n",
    "    Bar: Barrier\n",
    "    C.Wt: Carried Weight\n",
    "    Dist: Distance\n",
    "    H.Wt: Horse Weight\n",
    "    G: Going\n",
    "    T: Track\n",
    "    Jockey: Jockey\n",
    "    Trainer: Trainer\n",
    "    Finish Time: Finish Time\n",
    "\n",
    "    Date Foaled: Age\n",
    "\"\"\"\n",
    "from selenium.webdriver.chrome.options import Options\n",
    "\n",
    "# Configure Chrome options for headless mode\n",
    "options = Options()\n",
    "options.headless = True\n",
    "\n",
    "# Set up Selenium WebDriver with Chrome\n",
    "driver = webdriver.Chrome(options=options)  \n",
    "wait = WebDriverWait(driver, 10)  # Using explicit wait with a timeout of 10 seconds\n",
    "df_list=[]\n",
    "\n",
    "# Define the base URL and the number of pages\n",
    "for name,url in horse_data.items():\n",
    "    driver.get(url)\n",
    "    \n",
    "    # Wait until the table is present on the page\n",
    "    while True: #page traversal\n",
    "        table = WebDriverWait(driver, 10).until(EC.presence_of_element_located((By.TAG_NAME, 'table'))) #dont really need it\n",
    "        time.sleep(4) #literally wait for the browser to load\n",
    "        all_rows = wait.until(EC.presence_of_all_elements_located((By.CSS_SELECTOR, '.odd, .even')) )#selenium gets confused when elements are finished loading due to the way singapore turf loads their content\n",
    "        for row in all_rows:\n",
    "            try:\n",
    "                cells = row.find_elements(By.TAG_NAME, 'td')\n",
    "                if len(cells) < 18:  # Adjust the number as per your requirement\n",
    "                    continue  # Skip processing this row\n",
    "                row_data = {\n",
    "                    'Barrier': cells[8].text.strip(),\n",
    "                    'Carried Weight': cells[9].text.strip(),\n",
    "                    'Distance': cells[5].text.strip(),\n",
    "                    'Horse Weight': cells[10].text.strip(),\n",
    "                    'Going': cells[7].text.strip(),\n",
    "                    'Track': cells[6].text.strip(),\n",
    "                    'Jockey': cells[16].text.strip(),\n",
    "                    'Trainer': cells[17].text.strip(),\n",
    "                    'Finish Time': cells[12].text.strip(),\n",
    "                }\n",
    "                with open(f'horse_profiles.json', 'a') as f:\n",
    "                    json.dump({name: row_data}, f)\n",
    "                    f.write('\\n')\n",
    "            except StaleElementReferenceException as e:\n",
    "                continue\n",
    "        all_rows.clear()\n",
    "        if len(driver.find_elements(By.CLASS_NAME, 'paginate_button.next.disabled')) > 0: break #check if last page\n",
    "        wait.until(EC.element_to_be_clickable((By.CSS_SELECTOR, '#DataTables_Table_0_next'))).click()\n",
    "# Concatenate all DataFrames in the list\n",
    "df = pd.concat(df_list, ignore_index=True)\n",
    "with open('horse_data.pickle', 'wb') as f:\n",
    "    pickle.dump(horses_df, f) #store the pickle file for future use\n",
    "# Close the WebDriver\n",
    "driver.delete_all_cookies()\n",
    "driver.quit()"
   ]
  },
  {
   "cell_type": "code",
   "execution_count": 8,
   "id": "0493f4fb",
   "metadata": {
    "scrolled": true
   },
   "outputs": [
    {
     "ename": "NameError",
     "evalue": "name 'df' is not defined",
     "output_type": "error",
     "traceback": [
      "\u001b[1;31m---------------------------------------------------------------------------\u001b[0m",
      "\u001b[1;31mNameError\u001b[0m                                 Traceback (most recent call last)",
      "Cell \u001b[1;32mIn[8], line 2\u001b[0m\n\u001b[0;32m      1\u001b[0m \u001b[38;5;66;03m# Now df contains the table data as a pandas DataFrame\u001b[39;00m\n\u001b[1;32m----> 2\u001b[0m \u001b[38;5;28mprint\u001b[39m(df\u001b[38;5;241m.\u001b[39mshape())\n\u001b[0;32m      3\u001b[0m df\u001b[38;5;241m.\u001b[39mhead()\n",
      "\u001b[1;31mNameError\u001b[0m: name 'df' is not defined"
     ]
    }
   ],
   "source": [
    "# Now df contains the table data as a pandas DataFrame\n",
    "print(df.shape())\n",
    "df.head()"
   ]
  },
  {
   "cell_type": "code",
   "execution_count": null,
   "id": "f60b25c3",
   "metadata": {},
   "outputs": [],
   "source": []
  },
  {
   "cell_type": "code",
   "execution_count": null,
   "id": "8c128ab2",
   "metadata": {},
   "outputs": [],
   "source": []
  }
 ],
 "metadata": {
  "kernelspec": {
   "display_name": "Python 3 (ipykernel)",
   "language": "python",
   "name": "python3"
  },
  "language_info": {
   "codemirror_mode": {
    "name": "ipython",
    "version": 3
   },
   "file_extension": ".py",
   "mimetype": "text/x-python",
   "name": "python",
   "nbconvert_exporter": "python",
   "pygments_lexer": "ipython3",
   "version": "3.8.4"
  }
 },
 "nbformat": 4,
 "nbformat_minor": 5
}
