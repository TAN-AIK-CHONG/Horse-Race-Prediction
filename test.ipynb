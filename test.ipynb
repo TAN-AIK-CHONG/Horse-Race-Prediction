{
 "cells": [
  {
   "cell_type": "code",
   "execution_count": 1,
   "id": "a6749104",
   "metadata": {},
   "outputs": [],
   "source": [
    "import pandas as pd"
   ]
  },
  {
   "cell_type": "code",
   "execution_count": 4,
   "id": "751285f6",
   "metadata": {},
   "outputs": [
    {
     "name": "stdout",
     "output_type": "stream",
     "text": [
      "[Empty DataFrame\n",
      "Columns: [Unnamed: 0, C, Cl, Pl, Rtg, Dist, T, G, Bar, C.Wt, H.Wt, Running Position, LBW, Finish Time, Winning / Second Horse, Div, Gear, Jockey, Trainer, Stipendiary Stewards’ Extract, Video]\n",
      "Index: []\n",
      "\n",
      "[0 rows x 21 columns], Empty DataFrame\n",
      "Columns: [Distance (Track), Start, 1st, 2nd, 3rd, 4th, Win, First 2%, Placed%, First 4%, Unplaced]\n",
      "Index: [], Empty DataFrame\n",
      "Columns: [Trainer, Start, 1st, 2nd, 3rd, 4th, Win %, First 2%, Placed%, First 4%, Unplaced]\n",
      "Index: [], Empty DataFrame\n",
      "Columns: [Jockey, Start, 1st, 2nd, 3rd, 4th, Win %, First 2%, Placed%, First 4%, Unplaced]\n",
      "Index: [], Empty DataFrame\n",
      "Columns: [Year, Start, 1st, 2nd, 3rd, 4th, Win %, First 2%, Placed%, First 4%, Unplaced]\n",
      "Index: []]\n"
     ]
    }
   ],
   "source": [
    "df = pd.read_html(\"https://racing.turfclub.com.sg/en/horse-performance/horse-profile/?id=47274\")\n",
    "print(df)"
   ]
  },
  {
   "cell_type": "code",
   "execution_count": null,
   "id": "12757147",
   "metadata": {},
   "outputs": [],
   "source": []
  }
 ],
 "metadata": {
  "kernelspec": {
   "display_name": "Python 3 (ipykernel)",
   "language": "python",
   "name": "python3"
  },
  "language_info": {
   "codemirror_mode": {
    "name": "ipython",
    "version": 3
   },
   "file_extension": ".py",
   "mimetype": "text/x-python",
   "name": "python",
   "nbconvert_exporter": "python",
   "pygments_lexer": "ipython3",
   "version": "3.11.5"
  }
 },
 "nbformat": 4,
 "nbformat_minor": 5
}
